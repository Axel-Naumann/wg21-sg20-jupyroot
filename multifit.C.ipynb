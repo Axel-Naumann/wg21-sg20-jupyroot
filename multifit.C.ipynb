{
 "cells": [
  {
   "cell_type": "markdown",
   "metadata": {},
   "source": [
    "# Multifit\n",
    " Fitting multiple functions to different ranges of a 1-D histogram\n",
    "     Example showing how to fit in a sub-range of an histogram\n",
    " An histogram is created and filled with the bin contents and errors\n",
    " defined in the table below.\n",
    " 3 gaussians are fitted in sub-ranges of this histogram.\n",
    " A new function (a sum of 3 gaussians) is fitted on another subrange\n",
    " Note that when fitting simple functions, such as gaussians, the initial\n",
    " values of parameters are automatically computed by ROOT.\n",
    " In the more complicated case of the sum of 3 gaussians, the initial values\n",
    " of parameters must be given. In this particular case, the initial values\n",
    " are taken from the result of the individual fits.\n",
    "\n",
    "\n",
    "\n",
    "\n",
    "**Author:** Rene Brun  \n",
    "<i><small>This notebook tutorial was automatically generated with <a href= \"https://github.com/root-project/root/blob/master/documentation/doxygen/converttonotebook.py\">ROOTBOOK-izer</a> from the macro found in the ROOT repository  on Wednesday, November 06, 2019 at 11:27 PM.</small></i>"
   ]
  },
  {
   "cell_type": "code",
   "execution_count": null,
   "metadata": {},
   "outputs": [],
   "source": [
    "%%cpp -d\n",
    "#include \"TH1.h\"\n",
    "#include \"TF1.h\""
   ]
  },
  {
   "cell_type": "code",
   "execution_count": null,
   "metadata": {},
   "outputs": [],
   "source": [
    "const Int_t np = 49;\n",
    "Float_t x[np] = {1.913521, 1.953769, 2.347435, 2.883654, 3.493567,\n",
    "                 4.047560, 4.337210, 4.364347, 4.563004, 5.054247,\n",
    "                 5.194183, 5.380521, 5.303213, 5.384578, 5.563983,\n",
    "                 5.728500, 5.685752, 5.080029, 4.251809, 3.372246,\n",
    "                 2.207432, 1.227541, 0.8597788,0.8220503,0.8046592,\n",
    "                 0.7684097,0.7469761,0.8019787,0.8362375,0.8744895,\n",
    "                 0.9143721,0.9462768,0.9285364,0.8954604,0.8410891,\n",
    "                 0.7853871,0.7100883,0.6938808,0.7363682,0.7032954,\n",
    "                 0.6029015,0.5600163,0.7477068,1.188785, 1.938228,\n",
    "                 2.602717, 3.472962, 4.465014, 5.177035};\n",
    "\n",
    "TH1F *h = new TH1F(\"h\",\"Example of several fits in subranges\",np,85,134);\n",
    "h->SetMaximum(7);\n",
    "\n",
    "for (int i=0;i<np;i++) {\n",
    "   h->SetBinContent(i+1,x[i]);\n",
    "}\n",
    "\n",
    "Double_t par[9];\n",
    "TF1 *g1    = new TF1(\"g1\",\"gaus\",85,95);\n",
    "TF1 *g2    = new TF1(\"g2\",\"gaus\",98,108);\n",
    "TF1 *g3    = new TF1(\"g3\",\"gaus\",110,121);\n",
    "TF1 *total = new TF1(\"total\",\"gaus(0)+gaus(3)+gaus(6)\",85,125);\n",
    "total->SetLineColor(2);\n",
    "h->Fit(g1,\"R\");\n",
    "h->Fit(g2,\"R+\");\n",
    "h->Fit(g3,\"R+\");\n",
    "g1->GetParameters(&par[0]);\n",
    "g2->GetParameters(&par[3]);\n",
    "g3->GetParameters(&par[6]);\n",
    "total->SetParameters(par);\n",
    "h->Fit(total,\"R+\");"
   ]
  },
  {
   "cell_type": "markdown",
   "metadata": {},
   "source": [
    "Draw all canvases "
   ]
  },
  {
   "cell_type": "code",
   "execution_count": null,
   "metadata": {},
   "outputs": [],
   "source": [
    "%jsroot on\n",
    "gROOT->GetListOfCanvases()->Draw()"
   ]
  },
  {
   "cell_type": "code",
   "execution_count": null,
   "metadata": {},
   "outputs": [],
   "source": []
  }
 ],
 "metadata": {
  "kernelspec": {
   "display_name": "ROOT C++",
   "language": "c++",
   "name": "root"
  },
  "language_info": {
   "codemirror_mode": "text/x-c++src",
   "file_extension": ".C",
   "mimetype": " text/x-c++src",
   "name": "c++"
  }
 },
 "nbformat": 4,
 "nbformat_minor": 2
}
